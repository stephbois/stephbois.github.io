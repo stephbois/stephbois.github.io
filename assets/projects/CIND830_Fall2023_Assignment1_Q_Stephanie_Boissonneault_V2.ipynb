{
  "cells": [
    {
      "cell_type": "markdown",
      "source": [
        "## CIND830 - Python Programming for Data Science  \n",
        "### Assignment 1 (15% of the final grade)\n",
        "### Due on October 23, 2023, 11:59 PM"
      ],
      "metadata": {
        "id": "kJ6ssXaGJfGN"
      }
    },
    {
      "cell_type": "markdown",
      "source": [
        "*****\n",
        "This is a Jupyter Notebook document that extends a simple formatting syntax for authoring HTML and PDF. Review [this](https://jupyter-notebook.readthedocs.io/en/stable/notebook.html) website for more details on using Jupyter Notebooks.\n",
        "\n",
        "Consider using a Jupyter Notebook platform to complete this assignment. Ensure using **Python 3.9 release or higher**, then complete the assignment by inserting your Python code wherever seeing the string `#WRITE YOUR ANSWER HERE.`\n",
        "\n",
        "You are expected to submit the notebook file (in IPYNB format) and the exported version (either in PDF or HTML) in the same Assignment link in D2L. Use [these](https://www.ryerson.ca/courses/students/tutorials/assignments/) guidelines to submit **both** the IPYNB and the exported file (HTML or PDF). Failing to submit both files will be subject to mark deduction.\n",
        "\n",
        "Please be advised that you cannot get more than 100% in this assignment, and the **BONUS** question (if there is any) will only be graded if all other questions have been submitted."
      ],
      "metadata": {
        "id": "UWjXw7DsJfGP"
      }
    },
    {
      "cell_type": "markdown",
      "source": [
        "*****\n",
        "Coverage: <br>\n",
        "1. Data Types and Expressions <br>\n",
        "2. Repetition Statements <br>\n",
        "3. Selection Statements <br>\n",
        "4. Strings, Lists and Text Files <br>\n",
        "*****"
      ],
      "metadata": {
        "id": "EAq5nq7shwbI"
      }
    },
    {
      "cell_type": "code",
      "source": [
        "print(\"CIND830 Assignement 1\\nBy Stephanie Boissonneault\\nOctober, 3rd 2023\")\n",
        "!python --version"
      ],
      "metadata": {
        "colab": {
          "base_uri": "https://localhost:8080/"
        },
        "id": "NaaNUnnN1GRB",
        "outputId": "fedaa1a5-796f-4d08-8963-56ec46130475"
      },
      "execution_count": null,
      "outputs": [
        {
          "output_type": "stream",
          "name": "stdout",
          "text": [
            "CIND830 Assignement 1\n",
            "By Stephanie Boissonneault\n",
            "October, 3rd 2023\n",
            "Python 3.10.12\n"
          ]
        }
      ]
    },
    {
      "cell_type": "markdown",
      "source": [
        "### **Question 1  [30 pts]**:\n"
      ],
      "metadata": {
        "id": "GEYuQ9X455W2"
      }
    },
    {
      "cell_type": "markdown",
      "source": [
        "Suppose you have been hired by a local bookstore named \"BookNook\". The owner, Ms. Walker, is eager to integrate Python for maintaining her bookstore's records. She has outlined a few tasks that can help her manage the store better.\n",
        "\n",
        "Ms. Walker has a list of book titles and their respective prices. She'd like to see the total expense she has made in acquiring the books and the average cost of a book.\n",
        "\n"
      ],
      "metadata": {
        "id": "0jVA0V57583q"
      }
    },
    {
      "cell_type": "markdown",
      "source": [
        "**a- [10 pts]**\n",
        "\n",
        "Given;\n",
        "\n",
        "\n",
        "```\n",
        "book_titles = [\"The Great Gatsby\", \"Moby Dick\", \"To Kill a Mockingbird\", \"1984\", \"Pride and Prejudice\"]\n",
        "book_prices = [10.99, 12.45, 8.50, 9.99, 7.80]\n",
        "\n",
        "```\n",
        "\n",
        "1.  Calculate the total expense made by Ms. Walker in acquiring these books. (3p)\n",
        "\n",
        "2.  Find out the average cost of a book in the list.(4p)\n",
        "\n",
        "3.  Display the title of the most expensive book. (3p)\n"
      ],
      "metadata": {
        "id": "0ZWQVaMF8u_X"
      }
    },
    {
      "cell_type": "code",
      "source": [
        "# 1.\n",
        "book_titles = [\"The Great Gatsby\", \"Moby Dick\", \"To Kill a Mockingbird\", \"1984\", \"Pride and Prejudice\"]\n",
        "book_prices = [10.99, 12.45, 8.50, 9.99, 7.80]\n",
        "print(book_titles)\n",
        "print(book_prices, \"\\n\")\n",
        "\n",
        "total_expense = sum(book_prices)\n",
        "print(\"1. The total expense in acquiring these books is $\", str(total_expense))\n",
        "\n",
        "# 2\n",
        "import statistics\n",
        "mean_cost = statistics.fmean(book_prices)\n",
        "print(\"2. The average cost of a book in the list is $\", str(round(mean_cost, 2)))\n",
        "\n",
        "# Could also be calculated using the following:\n",
        "# avg_cost <- (sum(book_prices)/len(book_prices))\n",
        "# print(round(avg_cost, 2))\"\"\"\n",
        "\n",
        "# 3\n",
        "print(\"3. The most expensive book is \", str(book_titles[1]), \" listed at $\", str(max(book_prices)))"
      ],
      "metadata": {
        "id": "NIIw7Ia98ixk",
        "colab": {
          "base_uri": "https://localhost:8080/"
        },
        "outputId": "c08feef0-381d-458f-edf6-c9a68e48d42a"
      },
      "execution_count": 20,
      "outputs": [
        {
          "output_type": "stream",
          "name": "stdout",
          "text": [
            "['The Great Gatsby', 'Moby Dick', 'To Kill a Mockingbird', '1984', 'Pride and Prejudice']\n",
            "[10.99, 12.45, 8.5, 9.99, 7.8] \n",
            "\n",
            "1. The total expense in acquiring these books is $ 49.73\n",
            "2. The average cost of a book in the list is $ 9.95\n",
            "3. The most expensive book is  Moby Dick  listed at $ 12.45\n"
          ]
        }
      ]
    },
    {
      "cell_type": "markdown",
      "source": [
        "s**b-  [10 pts]**\n",
        "\n",
        "The bookstore is planning a sale. For each book that costs more than $10, Ms. Walker wants to offer a 10% discount.\n",
        "\n",
        "\n",
        "1.  Create a new list that holds the discounted prices of the books that cost more than $10. (5p)\n",
        "\n",
        "2.  Print each book title from book_titles and its new price side by side if it has a discount. (5p)"
      ],
      "metadata": {
        "id": "MOn80_FW91hY"
      }
    },
    {
      "cell_type": "code",
      "source": [
        "# 1 Multiplying the book prices by 0.9 (or 90%) to apply the 10% discount:\n",
        "print(book_prices)\n",
        "discounted_prices =[(book_prices[0]*0.9), (book_prices[1]*0.9),\n",
        "                    book_prices[2], book_prices[3], book_prices[4]]\n",
        "print(discounted_prices, \"\\n\")\n",
        "\n",
        "# 2 Printing the discounted prices next to book titles with disocunts:\n",
        "x = 0\n",
        "while x < len(book_titles):\n",
        "    if x <= 1:\n",
        "        print(book_titles[x], \"Original price $\", book_prices[x], \"Discounted price $\", str(round(discounted_prices[x],2)))\n",
        "        x += 1\n",
        "    else:\n",
        "        print(book_titles[x], \"Original price $\", book_prices[x])\n",
        "        x += 1"
      ],
      "metadata": {
        "id": "w4muS3ZJ90qO",
        "colab": {
          "base_uri": "https://localhost:8080/"
        },
        "outputId": "9a182a16-0420-4c56-936a-109eb0085253"
      },
      "execution_count": 21,
      "outputs": [
        {
          "output_type": "stream",
          "name": "stdout",
          "text": [
            "[10.99, 12.45, 8.5, 9.99, 7.8]\n",
            "[9.891, 11.205, 8.5, 9.99, 7.8] \n",
            "\n",
            "The Great Gatsby Original price $ 10.99 Discounted price $ 9.89\n",
            "Moby Dick Original price $ 12.45 Discounted price $ 11.21\n",
            "To Kill a Mockingbird Original price $ 8.5\n",
            "1984 Original price $ 9.99\n",
            "Pride and Prejudice Original price $ 7.8\n"
          ]
        }
      ]
    },
    {
      "cell_type": "markdown",
      "source": [
        "**c-  [10 pts]**\n",
        "\n",
        "Ms. Walker sometimes gets requests for recommendations. Depending on the reader's age, she recommends different genres.\n",
        "\n",
        "Write a program that:\n",
        "\n",
        "1.  Asks for the age of the reader. (5p)\n",
        "\n",
        "2.  Based on the given age, recommends a book genre using the following criteria: (5p)\n",
        "\n",
        "\n",
        "\n",
        "*   If the age is below 12, recommend \"Children's Fiction\".\n",
        "*   If the age is between 12 and 18, recommend \"Young Adult\".\n",
        "*   If the age is between 19 and 30, recommend \"Contemporary Fiction\".\n",
        "*   If the age is between 31 and 50, recommend \"Historical Fiction\".\n",
        "*   If the age is 51 and above, recommend \"Classics\".\n",
        "\n",
        "Ensure that the user inputs a valid age. If the user inputs a non-numeric value or an age less than 0, prompt them to enter the age again."
      ],
      "metadata": {
        "id": "MTYnzZpc-b-m"
      }
    },
    {
      "cell_type": "code",
      "source": [
        "print('Type in your age and hit \"enter\" to receive a book genre recomendation:')\n",
        "try:\n",
        "    age = int(input(\"How old are you?\"))\n",
        "    if age < 12:\n",
        "        print(\"I recommend Children's Fiction\")\n",
        "    elif age <= 18:\n",
        "        print(\"I recommend Young Adult\")\n",
        "    elif age <= 30:\n",
        "        print(\"I recommend Contemporary Fiction\")\n",
        "    elif age <= 50:\n",
        "        print(\"I recommend Historical Fiction\")\n",
        "    else:\n",
        "        print(\"I recommend Classics\")\n",
        "\n",
        "except:\n",
        "    print(\"Hmm I didn't quite catch that. Please try again using a whole number.\")"
      ],
      "metadata": {
        "colab": {
          "base_uri": "https://localhost:8080/"
        },
        "id": "nFbR3dLUfa7M",
        "outputId": "1ae90241-a3e6-423d-bc94-89d2d34cc1de"
      },
      "execution_count": 22,
      "outputs": [
        {
          "output_type": "stream",
          "name": "stdout",
          "text": [
            "Type in your age and hit \"enter\" to receive a book genre recomendation:\n",
            "Hmm I didn't quite catch that. Please try again using a whole number.\n"
          ]
        }
      ]
    },
    {
      "cell_type": "markdown",
      "source": [
        "*****"
      ],
      "metadata": {
        "id": "ykPO8lAcazKV"
      }
    },
    {
      "cell_type": "markdown",
      "source": [
        "### **Question 2  [30 pts]**:\n"
      ],
      "metadata": {
        "id": "HPYW8GiEIIn9"
      }
    },
    {
      "cell_type": "markdown",
      "source": [
        "Suppose you have recently joined a Data Science team as a Python Developer at a large retail corporation. You are tasked with analyzing sales data in order to provide valuable insights to the team."
      ],
      "metadata": {
        "id": "ulDXuhElLkd4"
      }
    },
    {
      "cell_type": "markdown",
      "source": [
        "**a-  Sales Trend Analysis [15 pts]**"
      ],
      "metadata": {
        "id": "tDX5Yk9FIKB0"
      }
    },
    {
      "cell_type": "markdown",
      "source": [
        "Given a sales data list representing the total sales of a particular product in each month over a year as follows:\n",
        "```python\n",
        "monthly_sales = [250, 280, 290, 260, 275, 300, 310, 305, 290, 285, 280, 300]\n",
        "```"
      ],
      "metadata": {
        "id": "PfT1F4WZK8lw"
      }
    },
    {
      "cell_type": "markdown",
      "source": [
        "1. Your first task is to write a python script that uses a for loop to calculate and print the sum of sales over the year."
      ],
      "metadata": {
        "id": "mxCn0zmCL1c8"
      }
    },
    {
      "cell_type": "code",
      "source": [
        "monthly_sales = [250, 280, 290, 260, 275, 300, 310, 305, 290, 285, 280, 300]\n",
        "\n",
        "total = 0\n",
        "for number in monthly_sales:\n",
        "    total += number\n",
        "print(\"The sum of sales over the year is $\", total)"
      ],
      "metadata": {
        "id": "02PviKYyK0RB",
        "colab": {
          "base_uri": "https://localhost:8080/"
        },
        "outputId": "3c079d84-5d22-4141-eb05-44936c54a240"
      },
      "execution_count": 24,
      "outputs": [
        {
          "output_type": "stream",
          "name": "stdout",
          "text": [
            "The sum of sales over the year is $ 3425\n"
          ]
        }
      ]
    },
    {
      "cell_type": "markdown",
      "source": [
        "2. Next, you are required to analyze the sales trend over the year. Write a python script using a for loop to print each monthly sales and indicate whether it is increased, decreased, or stable compared to the previous month."
      ],
      "metadata": {
        "id": "J_r-WrWCL4aG"
      }
    },
    {
      "cell_type": "code",
      "source": [
        "print(monthly_sales)\n",
        "count = 1    #To track the months\n",
        "\n",
        "last_month = 250\n",
        "for month in monthly_sales:\n",
        "    sale = (month - last_month)\n",
        "    if sale > 0:\n",
        "        print(\"Sales in month\", count, \"increased by $\", sale, \"since last month.\")\n",
        "    elif sale < 0:\n",
        "        print(\"Sales in month\", count, \"decreased by $\", sale, \"since last month.\")\n",
        "    else:\n",
        "        print(\"Sales in month \", count, \"are stable since last month.\")\n",
        "    last_month = month\n",
        "    count += 1"
      ],
      "metadata": {
        "colab": {
          "base_uri": "https://localhost:8080/"
        },
        "id": "uMz8--myUmno",
        "outputId": "c033d0be-3a92-4747-83b8-289b14f28ebc"
      },
      "execution_count": 25,
      "outputs": [
        {
          "output_type": "stream",
          "name": "stdout",
          "text": [
            "[250, 280, 290, 260, 275, 300, 310, 305, 290, 285, 280, 300]\n",
            "Sales in month  1 are stable since last month.\n",
            "Sales in month 2 increased by $ 30 since last month.\n",
            "Sales in month 3 increased by $ 10 since last month.\n",
            "Sales in month 4 decreased by $ -30 since last month.\n",
            "Sales in month 5 increased by $ 15 since last month.\n",
            "Sales in month 6 increased by $ 25 since last month.\n",
            "Sales in month 7 increased by $ 10 since last month.\n",
            "Sales in month 8 decreased by $ -5 since last month.\n",
            "Sales in month 9 decreased by $ -15 since last month.\n",
            "Sales in month 10 decreased by $ -5 since last month.\n",
            "Sales in month 11 decreased by $ -5 since last month.\n",
            "Sales in month 12 increased by $ 20 since last month.\n"
          ]
        }
      ]
    },
    {
      "cell_type": "markdown",
      "source": [
        "**b - Sales Growth Calculation [15 pts]**"
      ],
      "metadata": {
        "id": "py3yLsENMCdB"
      }
    },
    {
      "cell_type": "markdown",
      "source": [
        "Now, your team leader wants to know the sales growth of this product from month to month in percentage, as well as the average growth over the year.\n",
        "\n",
        "Sales growth is calculated as: `((Sales of current month - Sales of last month) / Sales of last month) * 100`"
      ],
      "metadata": {
        "id": "kKhXEbIaMMcE"
      }
    },
    {
      "cell_type": "markdown",
      "source": [
        "1. Write a python script using a for loop to calculate and print the sales growth of each month compared to the previous month."
      ],
      "metadata": {
        "id": "Md8cbh41MR7i"
      }
    },
    {
      "cell_type": "code",
      "source": [
        "# Sales growth month to month:\n",
        "prev_month = 250\n",
        "total_growth = 0\n",
        "count = 1\n",
        "\n",
        "for month in monthly_sales:\n",
        "    growth = ((month - prev_month)/prev_month)*100\n",
        "    print (\"The sales growth for month\", count, \"is\", round(growth,2), \"%\")\n",
        "    prev_month = month\n",
        "    count += 1\n",
        "    total_growth += growth\n",
        "\n",
        "# Average growth over the year:\n",
        "avg_growth = total_growth/(len(monthly_sales)-1)\n",
        "print(\"The avergage sales growth is\", round(avg_growth, 2), \"%\")"
      ],
      "metadata": {
        "id": "3C2eUcvbMLmC",
        "colab": {
          "base_uri": "https://localhost:8080/"
        },
        "outputId": "d2db57f1-3fbc-44c0-ec42-9419916f7b43"
      },
      "execution_count": 26,
      "outputs": [
        {
          "output_type": "stream",
          "name": "stdout",
          "text": [
            "The sales growth for month 1 is 0.0 %\n",
            "The sales growth for month 2 is 12.0 %\n",
            "The sales growth for month 3 is 3.57 %\n",
            "The sales growth for month 4 is -10.34 %\n",
            "The sales growth for month 5 is 5.77 %\n",
            "The sales growth for month 6 is 9.09 %\n",
            "The sales growth for month 7 is 3.33 %\n",
            "The sales growth for month 8 is -1.61 %\n",
            "The sales growth for month 9 is -4.92 %\n",
            "The sales growth for month 10 is -1.72 %\n",
            "The sales growth for month 11 is -1.75 %\n",
            "The sales growth for month 12 is 7.14 %\n",
            "The avergage sales growth is 1.87 %\n"
          ]
        }
      ]
    },
    {
      "cell_type": "markdown",
      "source": [
        "2. To better understand the overall performance, compute the average sales growth over the year. Use a while loop to calculate the sum of sales growths for all months first. Average monthly sales growth is then calculated as:\n",
        "```\n",
        "total growth over the year / (number of months - 1)\n",
        "```\n",
        " Print out the average sales growth."
      ],
      "metadata": {
        "id": "WbtxOJ_bMToC"
      }
    },
    {
      "cell_type": "code",
      "source": [
        "# Storing the monthly sales growth from previous question into the variable monthly_growth:\n",
        "monthly_sales = [250, 280, 290, 260, 275, 300, 310, 305, 290, 285, 280, 300]\n",
        "prev_month = 250\n",
        "total_growth = 0\n",
        "monthly_growth = []\n",
        "for month in monthly_sales:\n",
        "    growth = ((month - prev_month)/prev_month)*100\n",
        "    prev_month = month\n",
        "    monthly_growth.append(round(growth,2))\n",
        "print(monthly_growth, \"\\n\")\n",
        "\n",
        "\n",
        "# Using the while loop to calculate the sum of sales growth:\n",
        "x = 0\n",
        "while x < len(monthly_growth):\n",
        "    total_growth += monthly_growth[x]\n",
        "    x += 1\n",
        "print(\"The sum of sales growths for all months it\", total_growth, \"%\")\n",
        "\n",
        "# Average growth over the year:\n",
        "avg_growth = total_growth/(len(monthly_sales)-1)\n",
        "print(\"The avergage sales growth is\", round(avg_growth, 2), \"%\")"
      ],
      "metadata": {
        "id": "3EIa4zmcMVof",
        "colab": {
          "base_uri": "https://localhost:8080/"
        },
        "outputId": "e75e826d-0695-46fd-a5f9-bbcfa9da78a7"
      },
      "execution_count": 27,
      "outputs": [
        {
          "output_type": "stream",
          "name": "stdout",
          "text": [
            "[0.0, 12.0, 3.57, -10.34, 5.77, 9.09, 3.33, -1.61, -4.92, -1.72, -1.75, 7.14] \n",
            "\n",
            "The sum of sales growths for all months it 20.56 %\n",
            "The avergage sales growth is 1.87 %\n"
          ]
        }
      ]
    },
    {
      "cell_type": "markdown",
      "source": [
        "*****"
      ],
      "metadata": {
        "id": "huUq9zLJa2wR"
      }
    },
    {
      "cell_type": "markdown",
      "source": [
        "### **Question 3  [40 pts]**:\n"
      ],
      "metadata": {
        "id": "Ap9SAsh24cPf"
      }
    },
    {
      "cell_type": "markdown",
      "source": [
        "**a - String Manipulation**  **[10 pts]**  You have a string that contains a customer review:\n",
        "```\n",
        "review = \"This product is amazing! It has changed my life.\"\n",
        "```\n",
        "1. Consider the following code snippet to extract the word `amazing` from the string and store it in a variable:\n",
        "```\n",
        "review = \"This product is amazing! It has changed my life.\"\n",
        "start_index = review.find(\"amazing\")\n",
        "end_index = start_index + len(\"amazing\")\n",
        "extracted_word = review[start_index:end_index]\n",
        "print(\"Extracted word:\", extracted_word)\n",
        "```\n",
        "Provide a detailed explanation for each line of code.\n",
        "\n",
        "2. Consider the following code snippet to replace the word `amazing` with `incredible` in the original string:\n",
        "```\n",
        "modified_review = review.replace(\"amazing\", \"incredible\")\n",
        "print(\"Modified review:\", modified_review)\n",
        "```\n",
        "Provide an alternative solution to replace the word `amazing` with `incredible`."
      ],
      "metadata": {
        "id": "wM21TxMu4oQA"
      }
    },
    {
      "cell_type": "code",
      "source": [
        "# 1. Provide a detailed explanation for each line of code.\n",
        "\n",
        "# Storing the customer's review as a string into a variable called review.\n",
        "review = \"This product is amazing! It has changed my life.\"\n",
        "\n",
        "# Using python's find() function to search the position of the object \"review\"\n",
        "# for the first occurrence of the word \"amazing\" and storing it in a variable.\n",
        "# Note that indexing in python starts at 0 so start_index will return 16.\n",
        "start_index = review.find(\"amazing\")\n",
        "\n",
        "# Adding the start index (16) to the length of the characters in \"amazing\" (7).\n",
        "# This will help find the position of the last character in \"amazing\".\n",
        "# The return value is 23 and is stored in a variable.\n",
        "end_index = start_index + len(\"amazing\")\n",
        "\n",
        "# Characters from the word \"amazing\" are extracted based on their position\n",
        "# from the original string (16:23) and are stored in a variable.\n",
        "extracted_word = review[start_index:end_index]\n",
        "\n",
        "# The extracted word is printed.\n",
        "print(\"Extracted word:\", extracted_word)\n"
      ],
      "outputs": [
        {
          "output_type": "stream",
          "name": "stdout",
          "text": [
            "Extracted word: amazing\n"
          ]
        }
      ],
      "execution_count": 30,
      "metadata": {
        "id": "kTFxrtbs8dE3",
        "colab": {
          "base_uri": "https://localhost:8080/"
        },
        "outputId": "8085cde4-ab37-4a3c-b493-447bba6481ed"
      }
    },
    {
      "cell_type": "code",
      "source": [
        "# 2\n",
        "review = \"This product is amazing! It has changed my life.\"\n",
        "start_index = review.find(\"amazing\")\n",
        "end_index = start_index + len(\"amazing\")\n",
        "\n",
        "print(\"The original review is:\", review)\n",
        "# print(start_index)\n",
        "# print(end_index)\n",
        "# print(len(review))\n",
        "\n",
        "modified_review = review[0:16] + \"incredible\" + review[23:48]\n",
        "print(\"The modified review is:\", modified_review)"
      ],
      "metadata": {
        "colab": {
          "base_uri": "https://localhost:8080/"
        },
        "id": "6Qde1f1qD09M",
        "outputId": "9f0a8bc0-972f-44ed-e65d-c90d043232ae"
      },
      "execution_count": 31,
      "outputs": [
        {
          "output_type": "stream",
          "name": "stdout",
          "text": [
            "The original review is: This product is amazing! It has changed my life.\n",
            "The modified review is: This product is incredible! It has changed my life.\n"
          ]
        }
      ]
    },
    {
      "cell_type": "markdown",
      "source": [
        "**b - List Operations**  **[10 pts]**  You have a list of words extracted from multiple customer reviews:\n",
        "```\n",
        "words_list = ['great', 'product', 'value', 'quality']\n",
        "```\n",
        "1. Add the words \"excellent\" and \"affordable\" to the list.\n",
        "2. Sort the list in alphabetical order."
      ],
      "metadata": {
        "id": "ubz6julQ8z0I"
      }
    },
    {
      "cell_type": "code",
      "source": [
        "# 1\n",
        "words_list = ['great', 'product', 'value', 'quality']\n",
        "new_words_list = words_list + ['excellent', 'affordable']\n",
        "print(new_words_list)\n",
        "\n",
        "# 2\n",
        "new_words_list.sort()\n",
        "print(new_words_list)"
      ],
      "outputs": [
        {
          "output_type": "stream",
          "name": "stdout",
          "text": [
            "['great', 'product', 'value', 'quality', 'excellent', 'affordable']\n",
            "['affordable', 'excellent', 'great', 'product', 'quality', 'value']\n"
          ]
        }
      ],
      "execution_count": 32,
      "metadata": {
        "id": "NAQNukmX_mqx",
        "colab": {
          "base_uri": "https://localhost:8080/"
        },
        "outputId": "d9525410-7a02-45c4-b85f-1fbd9ad527df"
      }
    },
    {
      "cell_type": "markdown",
      "source": [
        "**c - String and List Integration**  **[10 pts]**  Using the words_list from Q3.b:\n",
        "\n",
        "1. Convert the list of words into a single string where each word is separated by a comma and a space.\n",
        "2. How would you convert this string back into a list?"
      ],
      "metadata": {
        "id": "-OMjGQ2MAjhG"
      }
    },
    {
      "cell_type": "code",
      "source": [
        "print(new_words_list)\n",
        "print(type(new_words_list))\n",
        "\n",
        "# 1. Convert to a single string:\n",
        "new_string= \" \".join(new_words_list)\n",
        "print(new_string)\n",
        "print(type(new_string))\n",
        "\n",
        "# 2. Convert back to a list:\n",
        "new_list = list(new_words_list)\n",
        "print(new_list)\n",
        "print(type(new_list))\n"
      ],
      "outputs": [
        {
          "output_type": "stream",
          "name": "stdout",
          "text": [
            "['affordable', 'excellent', 'great', 'product', 'quality', 'value']\n",
            "<class 'list'>\n",
            "affordable excellent great product quality value\n",
            "<class 'str'>\n",
            "['affordable', 'excellent', 'great', 'product', 'quality', 'value']\n",
            "<class 'list'>\n"
          ]
        }
      ],
      "execution_count": 33,
      "metadata": {
        "id": "6XvJ4dnVHCjG",
        "colab": {
          "base_uri": "https://localhost:8080/"
        },
        "outputId": "0908c736-29eb-4b33-a181-93981c88a080"
      }
    },
    {
      "cell_type": "markdown",
      "source": [
        "**d - Working with Text Files**  **[10 pts]**  You have a text file named `customer_reviews.txt` that contains multiple lines of customer reviews.\n",
        "\n",
        "\n",
        "\n",
        "1. Create this file and populate it with the following lines of customer reviews:\n",
        "```\n",
        "I love this product! Highly recommended.\n",
        "Not what I expected. Could be better.\n",
        "Excellent quality and fast shipping!\n",
        "```\n",
        "\n",
        "2. Read the created file and store all lines in a list. Then, count the number of lines in the file."
      ],
      "metadata": {
        "id": "aWOPd1Pbk2SS"
      }
    },
    {
      "cell_type": "code",
      "source": [
        "# 1. Create the file and populate it:\n",
        "textFile = open(\"customer_reviews.txt\", \"w\")\n",
        "textFile.write(\"I love this product! Highly recommended\\n\\\n",
        "Not what I expected. Could be better.\\n\\\n",
        "Excellent quality and fast shipping!\")\n",
        "textFile.close()\n",
        "\n",
        "#2. Read the created file:\n",
        "textFile = open(\"customer_reviews.txt\", \"r\")\n",
        "print(textFile.read())\n",
        "textFile.close()"
      ],
      "metadata": {
        "id": "dGiiAtydlID1",
        "colab": {
          "base_uri": "https://localhost:8080/"
        },
        "outputId": "a71ca5eb-99bf-4382-fe2a-ee4ae422ae68"
      },
      "execution_count": 52,
      "outputs": [
        {
          "output_type": "stream",
          "name": "stdout",
          "text": [
            "I love this product! Highly recommended\n",
            "Not what I expected. Could be better.\n",
            "Excellent quality and fast shipping!\n"
          ]
        }
      ]
    },
    {
      "cell_type": "code",
      "source": [
        "#3. Store all contents in a list:\n",
        "textFile = open(\"customer_reviews.txt\", \"r\")\n",
        "content = textFile.readlines()\n",
        "textList= [line.strip() for line in content]\n",
        "print(textList)\n",
        "\n",
        "#4. Count the number of lines in the file:\n",
        "total_lines = len(textList)\n",
        "print(\"The number of lines in the file is\", total_lines)\n",
        "\n",
        "textFile.close()"
      ],
      "metadata": {
        "colab": {
          "base_uri": "https://localhost:8080/"
        },
        "id": "NRIv5frnwGFc",
        "outputId": "005a35b6-75ec-4d08-a0d4-b71255e4b992"
      },
      "execution_count": 54,
      "outputs": [
        {
          "output_type": "stream",
          "name": "stdout",
          "text": [
            "['I love this product! Highly recommended', 'Not what I expected. Could be better.', 'Excellent quality and fast shipping!']\n",
            "The number of lines in the file is 3\n"
          ]
        }
      ]
    },
    {
      "cell_type": "markdown",
      "source": [
        "*****\n"
      ],
      "metadata": {
        "id": "jPrZqSxgSWNr"
      }
    },
    {
      "cell_type": "markdown",
      "source": [
        "#### This is the end of assignment 1\n",
        "\n",
        "\n",
        "\n",
        "\n"
      ],
      "metadata": {
        "id": "rtC6fqdFNkdO"
      }
    }
  ],
  "metadata": {
    "colab": {
      "provenance": []
    },
    "kernelspec": {
      "display_name": "Python 3",
      "language": "python",
      "name": "python3"
    },
    "language_info": {
      "name": "python",
      "version": "3.8.5",
      "mimetype": "text/x-python",
      "codemirror_mode": {
        "name": "ipython",
        "version": 3
      },
      "pygments_lexer": "ipython3",
      "nbconvert_exporter": "python",
      "file_extension": ".py"
    },
    "nteract": {
      "version": "0.28.0"
    },
    "varInspector": {
      "cols": {
        "lenName": 16,
        "lenType": 16,
        "lenVar": 40
      },
      "kernels_config": {
        "python": {
          "delete_cmd_postfix": "",
          "delete_cmd_prefix": "del ",
          "library": "var_list.py",
          "varRefreshCmd": "print(var_dic_list())"
        },
        "r": {
          "delete_cmd_postfix": ") ",
          "delete_cmd_prefix": "rm(",
          "library": "var_list.r",
          "varRefreshCmd": "cat(var_dic_list()) "
        }
      },
      "types_to_exclude": [
        "module",
        "function",
        "builtin_function_or_method",
        "instance",
        "_Feature"
      ],
      "window_display": false
    }
  },
  "nbformat": 4,
  "nbformat_minor": 0
}